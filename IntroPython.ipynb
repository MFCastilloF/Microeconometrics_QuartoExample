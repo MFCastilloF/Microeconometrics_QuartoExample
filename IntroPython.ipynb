{
  "cells": [
    {
      "cell_type": "markdown",
      "metadata": {},
      "source": [
        "# Introduction to Python {.unnumbered}\n",
        "\n",
        "Here will be the introduction to `Python`. Now an example of code visualization, this allows to write and execute code:\n"
      ],
      "id": "2a48dac5"
    },
    {
      "cell_type": "code",
      "metadata": {},
      "source": [
        "import numpy as np\n",
        "import matplotlib.pyplot as plt\n",
        "from scipy.stats import norm\n",
        "\n",
        "x = np.linspace(-3, 3, 1000)\n",
        "y = norm.pdf(x, loc=0, scale=1)\n",
        "\n",
        "plt.figure(1)\n",
        "plt.plot(x, y, label='Densidad Normal Estándar')\n",
        "plt.xlabel('X')\n",
        "plt.ylabel('Densidad')\n",
        "plt.title('Densidad Normal Estándar')\n",
        "plt.legend()\n",
        "plt.grid(True)\n",
        "plt.show()"
      ],
      "id": "0a6a2e7c",
      "execution_count": null,
      "outputs": []
    }
  ],
  "metadata": {
    "kernelspec": {
      "name": "python3",
      "language": "python",
      "display_name": "Python 3 (ipykernel)"
    }
  },
  "nbformat": 4,
  "nbformat_minor": 5
}