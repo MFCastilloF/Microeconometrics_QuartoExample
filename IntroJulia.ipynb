{
  "cells": [
    {
      "cell_type": "markdown",
      "metadata": {},
      "source": [
        "# Introduction to Julia {.unnumbered}\n",
        "\n",
        "Here will be the introduction to `Julia`. Now an example of code visualization, this allows to write and execute code:\n"
      ],
      "id": "11797edf"
    },
    {
      "cell_type": "code",
      "metadata": {},
      "source": [
        "using Plots\n",
        "using Distributions\n",
        "using StatsPlots\n",
        "display(plot(Normal(0,1)))"
      ],
      "id": "172a00ce",
      "execution_count": null,
      "outputs": []
    }
  ],
  "metadata": {
    "kernelspec": {
      "name": "julia-1.9",
      "language": "julia",
      "display_name": "Julia 1.9.2"
    }
  },
  "nbformat": 4,
  "nbformat_minor": 5
}